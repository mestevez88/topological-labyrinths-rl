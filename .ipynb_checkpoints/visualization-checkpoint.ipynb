{
 "cells": [
  {
   "cell_type": "code",
   "execution_count": null,
   "id": "04cd3034",
   "metadata": {},
   "outputs": [],
   "source": []
  },
  {
   "cell_type": "code",
   "execution_count": 68,
   "id": "75424fc9",
   "metadata": {},
   "outputs": [],
   "source": [
    "from topological_labyrinths_rl.envs.library_3x3 import LIBRARY_3X3_LABYRINTHS\n",
    "import gym\n",
    "import numpy as np\n",
    "import itertools\n",
    "import networkx as nx\n",
    "import matplotlib.pyplot as plt\n",
    "import seaborn as sns\n",
    "\n",
    "env = gym.make(\"topological-labyrinths-2D-v0\", envs_library=LIBRARY_3X3_LABYRINTHS, pi=0, draw_deterministic=5)"
   ]
  },
  {
   "cell_type": "code",
   "execution_count": null,
   "id": "273fa600",
   "metadata": {},
   "outputs": [],
   "source": []
  },
  {
   "cell_type": "code",
   "execution_count": null,
   "id": "2b1d5616",
   "metadata": {},
   "outputs": [],
   "source": []
  },
  {
   "cell_type": "code",
   "execution_count": null,
   "id": "9ee83a18",
   "metadata": {},
   "outputs": [],
   "source": []
  },
  {
   "cell_type": "code",
   "execution_count": null,
   "id": "36ed831e",
   "metadata": {},
   "outputs": [],
   "source": []
  },
  {
   "cell_type": "code",
   "execution_count": null,
   "id": "367be36c",
   "metadata": {},
   "outputs": [],
   "source": []
  },
  {
   "cell_type": "code",
   "execution_count": null,
   "id": "c38ede47",
   "metadata": {},
   "outputs": [],
   "source": []
  },
  {
   "cell_type": "code",
   "execution_count": 63,
   "id": "b320ed3b",
   "metadata": {},
   "outputs": [],
   "source": [
    "def plot_state_function(func, adjacency, n_tiles_per_state=25, ax=None):\n",
    "    n = n_tiles_per_state\n",
    "    single_state_tiles = np.arange(n*n).reshape(n, n)\n",
    "    i, j = func.shape\n",
    "    state_coords = np.array([[a, b] for a, b in itertools.product(range(i), range(j))])\n",
    "    \n",
    "    total_mask = np.pad(np.zeros([n*j, n*i]) != 0, 1, constant_values=True)\n",
    "    \n",
    "    for state, (x, y) in enumerate(state_coords):\n",
    "        mask = np.zeros([n, n]) != 0\n",
    "        if not ((y > 0) and adjacency[state, state - 1]): \n",
    "            mask = mask | (single_state_tiles % n == 0)\n",
    "                    \n",
    "        if not ((x < (j - 1)) and adjacency[state, state + i]):\n",
    "            mask = mask | (single_state_tiles > n*n - n - 1)\n",
    "                \n",
    "        if not ((y < (i - 1)) and adjacency[state, state + 1]):\n",
    "            mask = mask | (single_state_tiles % n == (n-1))\n",
    "                \n",
    "        if not ((x > 0) and adjacency[state, state - i]):\n",
    "            mask = mask | (single_state_tiles < n)\n",
    "\n",
    "        total_mask[1+n*x:1+n*x+n, 1+n*y:1+n*y+n] = mask\n",
    "    \n",
    "    func_enlarged = np.pad(np.repeat(np.repeat(func, n, axis=0), n, axis=1), 1, mode=\"edge\")\n",
    "    \n",
    "    masked_func = np.ma.masked_where(total_mask, func_enlarged)\n",
    "        \n",
    "    pcm = ax.imshow(masked_func)\n",
    "    \n",
    "    ax.tick_params(\n",
    "        axis='both',          # changes apply to the x-axis\n",
    "        which='both',      # both major and minor ticks are affected\n",
    "        bottom=False,      # ticks along the bottom edge are off\n",
    "        top=False,         # ticks along the top edge are off\n",
    "        left=False,      # ticks along the bottom edge are off\n",
    "        right=False,         # ticks along the top edge are off\n",
    "        labelbottom=False,\n",
    "        labelleft=False) # labels along the bottom edge are off\n",
    "    \n",
    "    ax.set_facecolor('grey')\n",
    "    \n",
    "    return pcm\n",
    "\n",
    "def draw_maze(scale, adjacency):\n",
    "    _, ax = plt.subplots(1, 1)\n",
    "    plot_state_function(np.ones([scale, scale]), adjacency, ax=ax)"
   ]
  },
  {
   "cell_type": "code",
   "execution_count": 64,
   "id": "9a513147",
   "metadata": {},
   "outputs": [
    {
     "data": {
      "image/png": "[encoded data removed]",
      "text/plain": [
       "<Figure size 640x480 with 1 Axes>"
      ]
     },
     "metadata": {},
     "output_type": "display_data"
    }
   ],
   "source": [
    "draw_maze(3, env.current_graph_adjacency)"
   ]
  },
  {
   "cell_type": "code",
   "execution_count": 53,
   "id": "880d6212",
   "metadata": {},
   "outputs": [],
   "source": [
    "degree_vector = np.sum(env.current_graph_adjacency, axis=0)\n",
    "degree_matrix = np.diag(degree_vector)\n",
    "delta = np.diag(1/np.sqrt(degree_vector))\n",
    "markov = delta @ env.current_graph_adjacency @ delta\n",
    "laplacian = degree_matrix - env.current_graph_adjacency\n",
    "sr = np.linalg.inv(np.eye(markov.shape[1]) - 0.8*markov)"
   ]
  },
  {
   "cell_type": "code",
   "execution_count": 65,
   "id": "dc37682d",
   "metadata": {},
   "outputs": [
    {
     "data": {
      "text/plain": [
       "<matplotlib.image.AxesImage at 0x15c9c43d0>"
      ]
     },
     "execution_count": 65,
     "metadata": {},
     "output_type": "execute_result"
    },
    {
     "data": {
      "image/png": "[encoded data removed]",
      "text/plain": [
       "<Figure size 640x480 with 1 Axes>"
      ]
     },
     "metadata": {},
     "output_type": "display_data"
    }
   ],
   "source": [
    "_, ax = plt.subplots(1, 1)\n",
    "plot_state_function(sr[:,5].reshape(3, 3), env.current_graph_adjacency, ax=ax)"
   ]
  },
  {
   "cell_type": "code",
   "execution_count": 66,
   "id": "e1f95256",
   "metadata": {},
   "outputs": [
    {
     "data": {
      "text/plain": [
       "<matplotlib.image.AxesImage at 0x15c9120b0>"
      ]
     },
     "execution_count": 66,
     "metadata": {},
     "output_type": "execute_result"
    },
    {
     "data": {
      "image/png": "[encoded data removed]",
      "text/plain": [
       "<Figure size 640x480 with 1 Axes>"
      ]
     },
     "metadata": {},
     "output_type": "display_data"
    }
   ],
   "source": [
    "_, ax = plt.subplots(1, 1)\n",
    "plot_state_function(laplacian[:,5].reshape(3, 3), env.current_graph_adjacency, ax=ax)"
   ]
  },
  {
   "cell_type": "code",
   "execution_count": null,
   "id": "e4e3c919",
   "metadata": {},
   "outputs": [],
   "source": []
  },
  {
   "cell_type": "code",
   "execution_count": null,
   "id": "11e3c25d",
   "metadata": {},
   "outputs": [],
   "source": []
  },
  {
   "cell_type": "code",
   "execution_count": 67,
   "id": "bc0c0a6a",
   "metadata": {},
   "outputs": [
    {
     "data": {
      "image/png": "[encoded data removed]",
      "text/plain": [
       "<Figure size 640x480 with 9 Axes>"
      ]
     },
     "metadata": {},
     "output_type": "display_data"
    }
   ],
   "source": [
    "import scipy\n",
    "def eigen_resolvent(sorted_lambdas):\n",
    "    gamma = 0.85/sorted_lambdas[-1]  # convention is gamma=0.85/lambda_max\n",
    "    return np.diag(1/(1-gamma*sorted_lambdas))\n",
    "\n",
    "\n",
    "def compute_communicability(eigenvalues, eigenvectors, time):\n",
    "    x = eigenvalues\n",
    "    c = max(x)\n",
    "    return eigenvectors @ np.diag(np.exp(-x)) @ eigenvectors.conj().T\n",
    "\n",
    "eigenValues, eigenVectors, _ = scipy.linalg.eig(sr, left=True)\n",
    "\n",
    "_, axs = plt.subplots(3, 3)\n",
    "\n",
    "for i, ax in enumerate(axs.flatten()):\n",
    "    plot_state_function(eigenVectors[:,i].reshape(3, 3), env.current_graph_adjacency, ax=ax)\n",
    "    \n",
    "plt.show()"
   ]
  },
  {
   "cell_type": "code",
   "execution_count": null,
   "id": "3c296d27",
   "metadata": {},
   "outputs": [],
   "source": []
  },
  {
   "cell_type": "code",
   "execution_count": null,
   "id": "37ccddde",
   "metadata": {},
   "outputs": [],
   "source": []
  },
  {
   "cell_type": "code",
   "execution_count": null,
   "id": "00c3e73a",
   "metadata": {},
   "outputs": [],
   "source": []
  },
  {
   "cell_type": "code",
   "execution_count": null,
   "id": "437f8ccb",
   "metadata": {},
   "outputs": [],
   "source": []
  }
 ],
 "metadata": {
  "kernelspec": {
   "display_name": "Python 3 (ipykernel)",
   "language": "python",
   "name": "python3"
  },
  "language_info": {
   "codemirror_mode": {
    "name": "ipython",
    "version": 3
   },
   "file_extension": ".py",
   "mimetype": "text/x-python",
   "name": "python",
   "nbconvert_exporter": "python",
   "pygments_lexer": "ipython3",
   "version": "3.10.8"
  }
 },
 "nbformat": 4,
 "nbformat_minor": 5
}
